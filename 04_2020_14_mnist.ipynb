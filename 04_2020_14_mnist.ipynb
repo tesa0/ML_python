{
  "nbformat": 4,
  "nbformat_minor": 0,
  "metadata": {
    "colab": {
      "provenance": [],
      "include_colab_link": true
    },
    "kernelspec": {
      "name": "python3",
      "display_name": "Python 3"
    },
    "accelerator": "GPU"
  },
  "cells": [
    {
      "cell_type": "markdown",
      "metadata": {
        "id": "view-in-github",
        "colab_type": "text"
      },
      "source": [
        "<a href=\"https://colab.research.google.com/github/tesa0/ML_python/blob/main/04_2020_14_mnist.ipynb\" target=\"_parent\"><img src=\"https://colab.research.google.com/assets/colab-badge.svg\" alt=\"Open In Colab\"/></a>"
      ]
    },
    {
      "cell_type": "code",
      "metadata": {
        "id": "0_cb-YDAJoEb"
      },
      "source": [
        "# Импорт библиотек.\n",
        "# Рисовать графики сразу же\n",
        "%matplotlib inline\n",
        "# регулярные выражения\n",
        "import re\n",
        "# Статический вывод графики (графики отображаются в той ячейке, в которой используется plt.show())\n",
        "# Импортируем библиотеку обработки и анализа данных pandas\n",
        "import pandas as pd\n",
        "# Импортируем модуль pyplot библиотеки matplotlib для построения графиков/#Отрисовка изображений\n",
        "import matplotlib.pyplot as plt\n",
        "from PIL import Image\n",
        "# Импортируем модуль datetime для обработки данных в формете даты\n",
        "import datetime\n",
        "# Импортируем библиотеку numpy\n",
        "import numpy as np\n",
        "# Импортируем библиотеку files для работы с файлами/#Для загрузки своей картинки\n",
        "from google.colab import files\n",
        "# Модуль для построения графиков\n",
        "import pylab\n",
        "# Модуль для трехмерной графики\n",
        "from mpl_toolkits.mplot3d import Axes3D"
      ],
      "execution_count": null,
      "outputs": []
    },
    {
      "cell_type": "code",
      "metadata": {
        "id": "pQVBbqBCLsMY"
      },
      "source": [
        "#Загрузка базы mnist.\n",
        "#Библиотека с базой Mnist\n",
        "from tensorflow.keras.datasets import mnist\n",
        "# Подлючаем класс создания модели Sequential\n",
        "from tensorflow.keras.models import Sequential\n",
        "# Подключаем класс Dense - полносвязный слой\n",
        "from tensorflow.keras.layers import Dense\n",
        "# Подключаем оптимизатор Adam\n",
        "from tensorflow.keras.optimizers import Adam\n",
        "#Утилиты для to_categorical\n",
        "from tensorflow.keras import utils\n",
        "#Для отрисовки изображения\n",
        "from tensorflow.keras.preprocessing import image"
      ],
      "execution_count": null,
      "outputs": []
    },
    {
      "cell_type": "code",
      "metadata": {
        "id": "G-pCRUX3SjLk",
        "colab": {
          "base_uri": "https://localhost:8080/",
          "height": 88
        },
        "outputId": "de3f3911-9f12-4e10-e7b0-1decf4fbc07c"
      },
      "source": [
        "#Нормирование и преобразование x_train и y_train\n",
        "(x_train_org, y_train_org), (x_test_org, y_test_org) = mnist.load_data()\n",
        "x_train_org[0].shape"
      ],
      "execution_count": null,
      "outputs": [
        {
          "output_type": "stream",
          "text": [
            "Downloading data from https://storage.googleapis.com/tensorflow/tf-keras-datasets/mnist.npz\n",
            "11493376/11490434 [==============================] - 0s 0us/step\n"
          ],
          "name": "stdout"
        },
        {
          "output_type": "execute_result",
          "data": {
            "text/plain": [
              "(28, 28)"
            ]
          },
          "metadata": {
            "tags": []
          },
          "execution_count": 3
        }
      ]
    },
    {
      "cell_type": "code",
      "metadata": {
        "id": "KxU5jiXsav1f",
        "colab": {
          "base_uri": "https://localhost:8080/",
          "height": 265
        },
        "outputId": "5c12dade-4117-4622-b8f4-238b5763edff"
      },
      "source": [
        "plt.imshow(Image.fromarray(x_train_org[0]).convert('RGB')) \n",
        "plt.show()"
      ],
      "execution_count": null,
      "outputs": [
        {
          "output_type": "display_data",
          "data": {
            "image/png": "[encoded data removed]",
            "text/plain": [
              "<Figure size 432x288 with 1 Axes>"
            ]
          },
          "metadata": {
            "tags": [],
            "needs_background": "light"
          }
        }
      ]
    },
    {
      "cell_type": "code",
      "metadata": {
        "id": "uNTMSvJ4kD-d",
        "colab": {
          "base_uri": "https://localhost:8080/",
          "height": 51
        },
        "outputId": "e4280e39-3d89-451f-a30a-008992502d94"
      },
      "source": [
        "x_train = x_train_org.reshape(60000, 784) # меняем формат 60к картинок\n",
        "x_test = x_test_org.reshape(10000, 784) # для проверки оставляем 10к штук\n",
        "print(x_train_org.shape)\n",
        "print(x_train.shape)"
      ],
      "execution_count": null,
      "outputs": [
        {
          "output_type": "stream",
          "text": [
            "(60000, 28, 28)\n",
            "(60000, 784)\n"
          ],
          "name": "stdout"
        }
      ]
    },
    {
      "cell_type": "code",
      "metadata": {
        "id": "uYnqS1y2oaX8",
        "colab": {
          "base_uri": "https://localhost:8080/",
          "height": 51
        },
        "outputId": "da2b60f3-5332-49e1-9c0b-63670789674d"
      },
      "source": [
        "print(x_train.max())\n",
        "print(x_test.max())"
      ],
      "execution_count": null,
      "outputs": [
        {
          "output_type": "stream",
          "text": [
            "255\n",
            "255\n"
          ],
          "name": "stdout"
        }
      ]
    },
    {
      "cell_type": "code",
      "metadata": {
        "id": "trf9jfqbmtP7"
      },
      "source": [
        "x_train = x_train.astype('float32')\n",
        "x_train /= 255 #\n",
        "x_test = x_test.astype('float32')\n",
        "x_test /= 255"
      ],
      "execution_count": null,
      "outputs": []
    },
    {
      "cell_type": "code",
      "metadata": {
        "id": "mvA5MjW8owBX",
        "colab": {
          "base_uri": "https://localhost:8080/",
          "height": 272
        },
        "outputId": "3e6f2c43-cac8-47fe-fc68-596c99907b89"
      },
      "source": [
        "#Создание нейронной сети.\n",
        "model = Sequential()\n",
        "model.add(Dense(800, input_dim=784, activation='relu'))\n",
        "model.add(Dense(100, activation='relu'))\n",
        "model.add(Dense(10, activation='softmax'))\n",
        "model.compile(loss='categorical_crossentropy', optimizer='adam', metrics=['accuracy'])\n",
        "print(model.summary())"
      ],
      "execution_count": null,
      "outputs": [
        {
          "output_type": "stream",
          "text": [
            "Model: \"sequential\"\n",
            "_________________________________________________________________\n",
            "Layer (type)                 Output Shape              Param #   \n",
            "=================================================================\n",
            "dense (Dense)                (None, 800)               628000    \n",
            "_________________________________________________________________\n",
            "dense_1 (Dense)              (None, 100)               80100     \n",
            "_________________________________________________________________\n",
            "dense_2 (Dense)              (None, 10)                1010      \n",
            "=================================================================\n",
            "Total params: 709,110\n",
            "Trainable params: 709,110\n",
            "Non-trainable params: 0\n",
            "_________________________________________________________________\n",
            "None\n"
          ],
          "name": "stdout"
        }
      ]
    },
    {
      "cell_type": "markdown",
      "metadata": {
        "id": "lqUxaNGml6k3"
      },
      "source": [
        "# Новый раздел"
      ]
    },
    {
      "cell_type": "code",
      "metadata": {
        "id": "3T0FZzw_Sh5a"
      },
      "source": [
        "# Преобразуем ответы в формат one_hot_encoding\n",
        "y_train = utils.to_categorical(y_train_org, 10)\n",
        "y_test = utils.to_categorical(y_test_org, 10)"
      ],
      "execution_count": null,
      "outputs": []
    },
    {
      "cell_type": "code",
      "metadata": {
        "id": "kijbzjDjJ-mE",
        "colab": {
          "base_uri": "https://localhost:8080/",
          "height": 544
        },
        "outputId": "651fb39d-e8a7-420e-967c-2563cb896571"
      },
      "source": [
        "#Обучение нейронной сети.\n",
        "model.fit(x_train, y_train, batch_size=60000, epochs=15, verbose=1)"
      ],
      "execution_count": null,
      "outputs": [
        {
          "output_type": "stream",
          "text": [
            "Epoch 1/15\n",
            "1/1 [==============================] - 0s 2ms/step - loss: 2.3663 - accuracy: 0.1031\n",
            "Epoch 2/15\n",
            "1/1 [==============================] - 0s 67ms/step - loss: 2.0318 - accuracy: 0.3839\n",
            "Epoch 3/15\n",
            "1/1 [==============================] - 0s 61ms/step - loss: 1.7668 - accuracy: 0.5802\n",
            "Epoch 4/15\n",
            "1/1 [==============================] - 0s 57ms/step - loss: 1.5000 - accuracy: 0.6612\n",
            "Epoch 5/15\n",
            "1/1 [==============================] - 0s 42ms/step - loss: 1.2513 - accuracy: 0.7327\n",
            "Epoch 6/15\n",
            "1/1 [==============================] - 0s 44ms/step - loss: 1.0361 - accuracy: 0.7909\n",
            "Epoch 7/15\n",
            "1/1 [==============================] - 0s 45ms/step - loss: 0.8632 - accuracy: 0.8185\n",
            "Epoch 8/15\n",
            "1/1 [==============================] - 0s 34ms/step - loss: 0.7315 - accuracy: 0.8301\n",
            "Epoch 9/15\n",
            "1/1 [==============================] - 0s 48ms/step - loss: 0.6293 - accuracy: 0.8402\n",
            "Epoch 10/15\n",
            "1/1 [==============================] - 0s 33ms/step - loss: 0.5533 - accuracy: 0.8489\n",
            "Epoch 11/15\n",
            "1/1 [==============================] - 0s 41ms/step - loss: 0.4987 - accuracy: 0.8596\n",
            "Epoch 12/15\n",
            "1/1 [==============================] - 0s 44ms/step - loss: 0.4584 - accuracy: 0.8685\n",
            "Epoch 13/15\n",
            "1/1 [==============================] - 0s 48ms/step - loss: 0.4237 - accuracy: 0.8760\n",
            "Epoch 14/15\n",
            "1/1 [==============================] - 0s 43ms/step - loss: 0.3987 - accuracy: 0.8821\n",
            "Epoch 15/15\n",
            "1/1 [==============================] - 0s 42ms/step - loss: 0.3787 - accuracy: 0.8893\n"
          ],
          "name": "stdout"
        },
        {
          "output_type": "execute_result",
          "data": {
            "text/plain": [
              "<tensorflow.python.keras.callbacks.History at 0x7f1c4663ae80>"
            ]
          },
          "metadata": {
            "tags": []
          },
          "execution_count": 10
        }
      ]
    },
    {
      "cell_type": "markdown",
      "metadata": {
        "id": "I4lqVQ-uYN1D"
      },
      "source": [
        "по результатам тестов лучший покаатель был при batch_size=60000, activation='relu', Dense = 100\n",
        "точность = 0,9988"
      ]
    },
    {
      "cell_type": "markdown",
      "metadata": {
        "id": "MLQM_6jinZ1A"
      },
      "source": [
        "PRO "
      ]
    },
    {
      "cell_type": "code",
      "metadata": {
        "id": "AuNcjsJknZLi",
        "colab": {
          "base_uri": "https://localhost:8080/",
          "height": 265
        },
        "outputId": "ae4a30ee-5c08-4b0c-d394-a5eda24a51ed"
      },
      "source": [
        "img = image.load_img('7.png', target_size=(28, 28), color_mode = 'grayscale')  \n",
        "x7 = image.img_to_array(img)\n",
        "x7new = np.reshape(x7, (28,28))\n",
        "y7 = 7\n",
        "plt.imshow(Image.fromarray(x7new).convert('RGB'))\n",
        "plt.show()"
      ],
      "execution_count": null,
      "outputs": [
        {
          "output_type": "display_data",
          "data": {
            "image/png": "[encoded data removed]",
            "text/plain": [
              "<Figure size 432x288 with 1 Axes>"
            ]
          },
          "metadata": {
            "tags": [],
            "needs_background": "light"
          }
        }
      ]
    },
    {
      "cell_type": "code",
      "metadata": {
        "id": "wbmWsonUuea9",
        "colab": {
          "base_uri": "https://localhost:8080/",
          "height": 34
        },
        "outputId": "e68cda52-133c-43cc-cd21-88bf74a2e114"
      },
      "source": [
        "x7new1 = np.reshape(x7new, (1,784))\n",
        "print(x7new1.shape)"
      ],
      "execution_count": null,
      "outputs": [
        {
          "output_type": "stream",
          "text": [
            "(1, 784)\n"
          ],
          "name": "stdout"
        }
      ]
    },
    {
      "cell_type": "code",
      "metadata": {
        "id": "ZkdUQLkLiXnM",
        "colab": {
          "base_uri": "https://localhost:8080/",
          "height": 34
        },
        "outputId": "72b8201e-74a5-4033-ec16-89311841153b"
      },
      "source": [
        "prediction = model.predict(x7new1)\n",
        "prediction"
      ],
      "execution_count": null,
      "outputs": [
        {
          "output_type": "execute_result",
          "data": {
            "text/plain": [
              "array([[0., 0., 0., 1., 0., 0., 0., 0., 0., 0.]], dtype=float32)"
            ]
          },
          "metadata": {
            "tags": []
          },
          "execution_count": 17
        }
      ]
    },
    {
      "cell_type": "code",
      "metadata": {
        "id": "OpcaAjWsihNo",
        "colab": {
          "base_uri": "https://localhost:8080/",
          "height": 34
        },
        "outputId": "ee06b9ab-45fe-4b75-e97e-b6ea5821811e"
      },
      "source": [
        "prediction = np.argmax(prediction) # Получаем индекс самого большого элемента (это итоговая цифра, которую распознала сеть)\n",
        "print(prediction)"
      ],
      "execution_count": null,
      "outputs": [
        {
          "output_type": "stream",
          "text": [
            "3\n"
          ],
          "name": "stdout"
        }
      ]
    },
    {
      "cell_type": "markdown",
      "metadata": {
        "id": "YibuaYuTiqKQ"
      },
      "source": []
    }
  ]
}