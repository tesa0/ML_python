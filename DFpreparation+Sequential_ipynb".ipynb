{
  "nbformat": 4,
  "nbformat_minor": 0,
  "metadata": {
    "colab": {
      "provenance": [],
      "authorship_tag": "ABX9TyNumjYkdAnrH+DtkDyXWLKK",
      "include_colab_link": true
    },
    "kernelspec": {
      "name": "python3",
      "display_name": "Python 3"
    },
    "language_info": {
      "name": "python"
    }
  },
  "cells": [
    {
      "cell_type": "markdown",
      "metadata": {
        "id": "view-in-github",
        "colab_type": "text"
      },
      "source": [
        "<a href=\"https://colab.research.google.com/github/tesa0/ML_python/blob/main/DFpreparation%2BSequential_ipynb%22.ipynb\" target=\"_parent\"><img src=\"https://colab.research.google.com/assets/colab-badge.svg\" alt=\"Open In Colab\"/></a>"
      ]
    },
    {
      "cell_type": "code",
      "execution_count": 15,
      "metadata": {
        "id": "pJDXwe9K-nsW",
        "colab": {
          "base_uri": "https://localhost:8080/"
        },
        "outputId": "01d3f7c8-b78f-4437-d0ac-c03222fc3a59"
      },
      "outputs": [
        {
          "output_type": "stream",
          "name": "stdout",
          "text": [
            "Drive already mounted at /content/drive; to attempt to forcibly remount, call drive.mount(\"/content/drive\", force_remount=True).\n"
          ]
        },
        {
          "output_type": "stream",
          "name": "stderr",
          "text": [
            "/usr/local/lib/python3.8/dist-packages/IPython/core/interactiveshell.py:3326: DtypeWarning: Columns (12,39,51,52) have mixed types.Specify dtype option on import or set low_memory=False.\n",
            "  exec(code_obj, self.user_global_ns, self.user_ns)\n"
          ]
        }
      ],
      "source": [
        "import numpy as np \n",
        "import pandas as pd\n",
        "import seaborn as sb     \n",
        "import matplotlib.pyplot as plt     \n",
        "import datetime\n",
        "from datetime import datetime\n",
        "\n",
        "from sklearn import preprocessing\n",
        "from sklearn.preprocessing import StandardScaler\n",
        "from tensorflow.keras.models import Sequential  \n",
        "from tensorflow.keras.layers import Dense, Activation, Dropout, BatchNormalization \n",
        "from tensorflow.keras import utils   \n",
        "from tensorflow.keras.optimizers import Adam, Adadelta \n",
        "from sklearn.utils import shuffle\n",
        "from sklearn.feature_selection import SelectKBest\n",
        "from sklearn.feature_selection import f_regression\n",
        "from sklearn.model_selection import train_test_split\n",
        "from sklearn.metrics import accuracy_score, confusion_matrix, classification_report, plot_confusion_matrix, precision_score, recall_score,precision_recall_curve\n",
        "from tensorflow.keras.callbacks import ModelCheckpoint,Callback,BackupAndRestore\n",
        "\n",
        "%matplotlib inline\n",
        "\n",
        "from google.colab import drive\n",
        "drive.mount('/content/drive')\n",
        "file_path1 = '/content/drive/MyDrive/MA/t1_20220101_20220726_rg_201589066.csv'            # счетчик 1.1, цель 201589066, 22-01-01 - 22-07-26 visits\n",
        "\n",
        "df = pd.read_csv(file_path1, header=0)\n",
        "df1 = df.copy()"
      ]
    },
    {
      "cell_type": "code",
      "source": [
        "col1= list(df1.columns) # счетчик 1.1, цель 201589066, 22-01-01 - 22-07-26 visits\n",
        "# df1.columns\n",
        "df1 = df1.drop(['Unnamed: 0.1','Unnamed: 0','ym:s:from','ym:s:lastSocialNetworkProfile',\n",
        "                'ym:s:lastSocialNetwork','ym:s:openstatAd','ym:s:openstatCampaign','ym:s:openstatService',\n",
        "                'ym:s:openstatSource','ym:s:browserCountry','ym:s:firstGCLID','ym:s:lastDirectClickOrder',\n",
        "                'ym:s:lastDirectPlatform','ym:s:lastGCLID','ym:s:lastReferalSource',\n",
        "                'ym:s:lastSignificantGCLID','ym:s:networkType', 'ym:s:referer','ym:s:regionCity',\n",
        "                'ym:s:UTMCampaign','ym:s:UTMContent','ym:s:UTMSource','ym:s:UTMTerm','ym:s:browserLanguage',\n",
        "                'ym:s:cookieEnabled','ym:s:goalsPrice','ym:s:goalsSerialNumber',\n",
        "                'ym:s:ipAddress','ym:s:impressionsProductCoupon','ym:s:offlineCallHoldDuration',\n",
        "                'ym:s:offlineCallMissed','ym:s:offlineCallURL','ym:s:watchIDs'], axis=1)"
      ],
      "metadata": {
        "id": "TTECdz9wMhNO"
      },
      "execution_count": 16,
      "outputs": []
    },
    {
      "cell_type": "code",
      "source": [
        "df1['ym:s:date'] = [pd.to_datetime(x) for x in df1['ym:s:date']]"
      ],
      "metadata": {
        "id": "nm9Kn70lM30Z"
      },
      "execution_count": 17,
      "outputs": []
    },
    {
      "cell_type": "code",
      "source": [
        "df1['ym:s:lastDirectBannerGroup'] = [0 if el==0 else 1 for el in df1['ym:s:lastDirectBannerGroup']]\n",
        "\n",
        "df1['ym:s:offlineCallTag'] = ['1' if '1' in el else el for el in df1['ym:s:offlineCallTag']]\n",
        "df1['ym:s:offlineCallTag'] = ['1' if '2' in el else el for el in df1['ym:s:offlineCallTag']]\n",
        "df1['ym:s:offlineCallTag'] = ['1' if '3' in el else el for el in df1['ym:s:offlineCallTag']]\n",
        "df1['ym:s:offlineCallTag'] = ['1' if '4' in el else el for el in df1['ym:s:offlineCallTag']]\n",
        "df1['ym:s:offlineCallTag'] = [1 if '1' in el else 0 for el in df1['ym:s:offlineCallTag']]\n",
        "\n",
        "df1['ym:s:endURL'] = [x[7:] for x in df1['ym:s:endURL']]\n",
        "df1['ym:s:startURL'] = [x[9:] for x in df1['ym:s:startURL']]\n",
        "\n",
        "df1['ym:s:offlineCallTalkDuration'] = [x[1:-1] for x in df1['ym:s:offlineCallTalkDuration']]\n",
        "df1['ym:s:offlineCallTalkDuration'] = [x.replace(\"''\",\"\") for x in df1['ym:s:offlineCallTalkDuration']]\n",
        "df1['ym:s:offlineCallTalkDuration'] = ['0' if x == '' else max(x.split(',')) for x in df1['ym:s:offlineCallTalkDuration']]\n",
        "df1['ym:s:offlineCallTalkDuration'] = [int(x) for x in df1['ym:s:offlineCallTalkDuration']]\n",
        "df1['ym:s:offlineCallTalkDuration'] = df1['ym:s:offlineCallTalkDuration']/max(df1['ym:s:offlineCallTalkDuration'])\n",
        "\n",
        "df1['ym:s:diagonal'] = ((df1['ym:s:screenHeight']**2+df1['ym:s:screenWidth']**2)**0.5)\n",
        "df1['ym:s:diagonal'] = round(df1['ym:s:diagonal'] / max(df1['ym:s:diagonal']),2)\n",
        "\n",
        "df1 = df1.drop(['ym:s:screenHeight', 'ym:s:screenWidth'], axis=1)\n",
        "\n",
        "df1['ym:s:lastDirectClickBanner'] = [0 if el==0 else 1 for el in df1['ym:s:lastDirectClickBanner']]\n",
        "\n",
        "df1['ym:s:lastDirectClickBannerName'] = [x[26:] for x in df1['ym:s:lastDirectClickBannerName']]\n",
        "df1['ym:s:lastDirectClickBannerName'] = [int(x) for x in df1['ym:s:lastDirectClickBannerName']]\n",
        "df1['ym:s:lastDirectClickBannerName'] = round((df1['ym:s:lastDirectClickBannerName'])/max(df1['ym:s:lastDirectClickBannerName']),2)\n",
        "\n",
        "df1['ym:s:visitDuration'] = round((df1['ym:s:visitDuration'])/max(df1['ym:s:visitDuration']),2)\n",
        "\n",
        "df1['ym:s:lastClickBannerGroupName'] = [el.lower() for el in df1['ym:s:lastClickBannerGroupName']]\n",
        "df1['ym:s:lastClickBannerGroupName'] = ['2022' if '2022' in el else el for el in df1['ym:s:lastClickBannerGroupName']]\n",
        "df1['ym:s:lastClickBannerGroupName'] = ['фили' if 'фили' in el else el for el in df1['ym:s:lastClickBannerGroupName']]\n",
        "df1['ym:s:lastClickBannerGroupName'] = ['Headliner' if 'headliner' in el else el for el in df1['ym:s:lastClickBannerGroupName']]\n",
        "df1['ym:s:lastClickBannerGroupName'] = ['застройщик' if 'застройщик' in el else el for el in df1['ym:s:lastClickBannerGroupName']]\n",
        "df1['ym:s:lastClickBannerGroupName'] = ['Не отказ' if 'не отказ' in el else el for el in df1['ym:s:lastClickBannerGroupName']]\n",
        "df1['ym:s:lastClickBannerGroupName'] = ['конкурент' if 'конкурент' in el else el for el in df1['ym:s:lastClickBannerGroupName']]\n",
        "df1['ym:s:lastClickBannerGroupName'] = ['запрос' if 'запрос' in el else el for el in df1['ym:s:lastClickBannerGroupName']]\n",
        "df1['ym:s:lastClickBannerGroupName'] = ['2021' if '2021' in el else el for el in df1['ym:s:lastClickBannerGroupName']]\n",
        "df1['ym:s:lastClickBannerGroupName'] = ['жк' if 'жк' in el else el for el in df1['ym:s:lastClickBannerGroupName']]\n",
        "df1['ym:s:lastClickBannerGroupName'] = ['центр сити' if 'центр сити' in el else el for el in df1['ym:s:lastClickBannerGroupName']]\n",
        "df1['ym:s:lastClickBannerGroupName'] = ['москва' if 'москв' in el else el for el in df1['ym:s:lastClickBannerGroupName']]\n",
        "\n",
        "df1['ym:s:lastDirectPhraseOrCond'] = [x[23:] for x in df1['ym:s:lastDirectPhraseOrCond']]\n",
        "\n",
        "df1['ym:s:goalsDateTime'] = [x.replace(\"[\",\"\") for x in df1['ym:s:goalsDateTime']]\n",
        "df1['ym:s:goalsDateTime'] = [x.replace(\"]\",\"\") for x in df1['ym:s:goalsDateTime']]\n",
        "df1['ym:s:goalsDateTime'] = [x[2:12] for x in df1['ym:s:goalsDateTime']]\n",
        "df1 = df1.drop(df1[df1['ym:s:goalsDateTime']==''].index) # ---------------------------------------------\n",
        "df1['ym:s:goalsDateTime'] = [datetime.strptime(x, '%Y-%m-%d') for x in df1['ym:s:goalsDateTime']]\n",
        "\n",
        "df1['ym:s:deltaTime'] = df1['ym:s:goalsDateTime'] - df1['ym:s:date']\n",
        "df1['ym:s:deltaTime'] = [x.components.days for x in df1['ym:s:deltaTime']]\n",
        "df1['ym:s:deltaTime'] = df1['ym:s:deltaTime']/max(df1['ym:s:deltaTime'] )\n",
        "\n",
        "df1 = df1.drop(['ym:s:date', 'ym:s:goalsDateTime'], axis=1)\n",
        "\n",
        "# модель с учителем\n",
        "df1['Y'] = [1 if '201589066' in el else 0 for el in df1['ym:s:goalsID']]\n",
        "df1 = df1.drop(['ym:s:visitID','ym:s:clientID','ym:s:goalsID'], axis=1)\n",
        "df1 = df1.dropna(axis=1)\n",
        "     "
      ],
      "metadata": {
        "id": "GPvRnWgxBiLR"
      },
      "execution_count": 18,
      "outputs": []
    },
    {
      "cell_type": "code",
      "source": [
        "# will be categories :\n",
        "# Названия колонок которые необходимо закодирвать\n",
        "cols_encode = ['ym:s:lastAdvEngine', 'ym:s:deviceCategory', 'ym:s:hasGCLID', 'ym:s:isNewUser', \n",
        "               'ym:s:javascriptEnabled', 'ym:s:lastDirectBannerGroup', 'ym:s:lastDirectClickBanner',\n",
        "               'ym:s:offlineCallTag','ym:s:pageViews','ym:s:screenOrientation','ym:s:startURL',\n",
        "               'ym:s:endURL','ym:s:bounce','ym:s:lastClickBannerGroupName','ym:s:lastClickBannerGroupName',\n",
        "               'ym:s:lastDirectClickOrderName','ym:s:lastDirectPhraseOrCond', 'ym:s:lastTrafficSource'] \n",
        "df1[cols_encode].replace(pd.NA,'empty') \n",
        "\n",
        "from sklearn import preprocessing\n",
        "le = preprocessing.LabelEncoder()\n",
        "\n",
        "for col in cols_encode:\n",
        "  df1[col]=le.fit_transform(df1[col])\n",
        "\n",
        "# df1[cols_encode]\n",
        "df1['Y'].value_counts()\n",
        "     "
      ],
      "metadata": {
        "id": "3gBfd-kapzH8",
        "colab": {
          "base_uri": "https://localhost:8080/"
        },
        "outputId": "9758ed99-20a0-4b08-ded1-a80bb0114bff"
      },
      "execution_count": 19,
      "outputs": [
        {
          "output_type": "stream",
          "name": "stderr",
          "text": [
            "<ipython-input-19-696163cee1f2>:14: SettingWithCopyWarning: \n",
            "A value is trying to be set on a copy of a slice from a DataFrame.\n",
            "Try using .loc[row_indexer,col_indexer] = value instead\n",
            "\n",
            "See the caveats in the documentation: https://pandas.pydata.org/pandas-docs/stable/user_guide/indexing.html#returning-a-view-versus-a-copy\n",
            "  df1[col]=le.fit_transform(df1[col])\n"
          ]
        },
        {
          "output_type": "execute_result",
          "data": {
            "text/plain": [
              "0    121641\n",
              "1      1307\n",
              "Name: Y, dtype: int64"
            ]
          },
          "metadata": {},
          "execution_count": 19
        }
      ]
    },
    {
      "cell_type": "code",
      "source": [
        "# numbers too big\n",
        "col_big_nums = ['ym:s:endURL', 'ym:s:lastDirectPhraseOrCond','ym:s:startURL','ym:s:lastDirectClickOrderName','ym:s:lastClickBannerGroupName']\n",
        "df1 = df1.drop(col_big_nums, axis=1)\n",
        "# df1.describe().transpose()[['count',\t'mean',\t'std',\t'min', 'max']] \n",
        "df1['Y'].value_counts()\n",
        "     "
      ],
      "metadata": {
        "id": "S4Z5SF5AVlXA",
        "colab": {
          "base_uri": "https://localhost:8080/"
        },
        "outputId": "37047a3c-f206-4c3a-e5c3-067f7149261f"
      },
      "execution_count": 20,
      "outputs": [
        {
          "output_type": "execute_result",
          "data": {
            "text/plain": [
              "0    121641\n",
              "1      1307\n",
              "Name: Y, dtype: int64"
            ]
          },
          "metadata": {},
          "execution_count": 20
        }
      ]
    },
    {
      "cell_type": "code",
      "source": [
        "# что осталосьобработать: на время можно удалить из модели\n",
        "\n",
        "# for el in [ 'ym:s:lastDirectClickOrderName']:\n",
        "#        print(len(df1))\n",
        "#        print(df1[el].unique()[:5])\n"
      ],
      "metadata": {
        "id": "LpB-Eo1MUe7h"
      },
      "execution_count": 21,
      "outputs": []
    },
    {
      "cell_type": "code",
      "source": [
        "df1 = df1.drop(['ym:s:offlineCallFirstTimeCaller'], axis=1)\n",
        "df1['Y'].value_counts()\n",
        "     "
      ],
      "metadata": {
        "colab": {
          "base_uri": "https://localhost:8080/"
        },
        "id": "tMKyCg3sRrEj",
        "outputId": "30dbfde9-f59d-465f-d7a4-0fe0a9d943bd"
      },
      "execution_count": 22,
      "outputs": [
        {
          "output_type": "execute_result",
          "data": {
            "text/plain": [
              "0    121641\n",
              "1      1307\n",
              "Name: Y, dtype: int64"
            ]
          },
          "metadata": {},
          "execution_count": 22
        }
      ]
    },
    {
      "cell_type": "code",
      "source": [
        "# df1.to_csv (r'/content/drive/MyDrive/MA/ma1.csv', index = False, header=True)\n",
        "df1"
      ],
      "metadata": {
        "colab": {
          "base_uri": "https://localhost:8080/",
          "height": 488
        },
        "id": "9BQTW5NgRrHr",
        "outputId": "efc9691d-8d85-4842-8309-64875c4806d8"
      },
      "execution_count": 23,
      "outputs": [
        {
          "output_type": "execute_result",
          "data": {
            "text/plain": [
              "        ym:s:bounce  ym:s:deviceCategory  ym:s:hasGCLID  ym:s:isNewUser  \\\n",
              "3                 0                    1              0               1   \n",
              "7                 0                    0              0               1   \n",
              "15                0                    1              0               0   \n",
              "17                0                    0              0               1   \n",
              "19                0                    1              0               1   \n",
              "...             ...                  ...            ...             ...   \n",
              "361894            0                    1              0               0   \n",
              "361895            0                    1              0               1   \n",
              "361908            0                    1              0               1   \n",
              "361912            0                    0              1               1   \n",
              "361914            0                    1              0               0   \n",
              "\n",
              "        ym:s:javascriptEnabled  ym:s:lastAdvEngine  \\\n",
              "3                            1                   7   \n",
              "7                            1                   8   \n",
              "15                           1                   8   \n",
              "17                           1                   2   \n",
              "19                           1                   5   \n",
              "...                        ...                 ...   \n",
              "361894                       1                   8   \n",
              "361895                       1                   2   \n",
              "361908                       1                   7   \n",
              "361912                       1                   9   \n",
              "361914                       1                   8   \n",
              "\n",
              "        ym:s:lastDirectBannerGroup  ym:s:lastDirectClickBanner  \\\n",
              "3                                1                           1   \n",
              "7                                0                           1   \n",
              "15                               0                           1   \n",
              "17                               0                           1   \n",
              "19                               0                           1   \n",
              "...                            ...                         ...   \n",
              "361894                           0                           0   \n",
              "361895                           0                           0   \n",
              "361908                           1                           1   \n",
              "361912                           0                           0   \n",
              "361914                           0                           0   \n",
              "\n",
              "        ym:s:lastDirectClickBannerName  ym:s:lastTrafficSource  \\\n",
              "3                                 0.00                       0   \n",
              "7                                 0.00                       1   \n",
              "15                                0.01                       2   \n",
              "17                                0.01                       0   \n",
              "19                                0.01                       0   \n",
              "...                                ...                     ...   \n",
              "361894                            0.00                       0   \n",
              "361895                            0.00                       0   \n",
              "361908                            0.02                       0   \n",
              "361912                            0.00                       0   \n",
              "361914                            0.00                       2   \n",
              "\n",
              "        ym:s:offlineCallTag  ym:s:offlineCallTalkDuration  ym:s:pageViews  \\\n",
              "3                         0                           0.0               1   \n",
              "7                         0                           0.0               6   \n",
              "15                        0                           0.0               1   \n",
              "17                        0                           0.0               1   \n",
              "19                        0                           0.0               2   \n",
              "...                     ...                           ...             ...   \n",
              "361894                    0                           0.0               1   \n",
              "361895                    0                           0.0               2   \n",
              "361908                    0                           0.0               0   \n",
              "361912                    0                           0.0               1   \n",
              "361914                    0                           0.0               2   \n",
              "\n",
              "        ym:s:screenOrientation  ym:s:visitDuration  ym:s:diagonal  \\\n",
              "3                            1                0.00           0.14   \n",
              "7                            2                0.07           0.34   \n",
              "15                           1                0.00           0.16   \n",
              "17                           2                0.00           0.45   \n",
              "19                           1                0.00           0.14   \n",
              "...                        ...                 ...            ...   \n",
              "361894                       1                0.04           0.13   \n",
              "361895                       1                0.03           0.14   \n",
              "361908                       1                0.01           0.11   \n",
              "361912                       2                0.01           0.24   \n",
              "361914                       1                0.01           0.15   \n",
              "\n",
              "        ym:s:deltaTime  Y  \n",
              "3                  0.0  0  \n",
              "7                  0.0  0  \n",
              "15                 0.0  0  \n",
              "17                 0.0  0  \n",
              "19                 0.0  0  \n",
              "...                ... ..  \n",
              "361894             0.0  0  \n",
              "361895             0.0  0  \n",
              "361908             0.0  0  \n",
              "361912             0.0  0  \n",
              "361914             0.0  0  \n",
              "\n",
              "[122948 rows x 18 columns]"
            ],
            "text/html": [
              "\n",
              "  <div id=\"df-a7c03444-09ff-4882-8072-7391bc9a57e3\">\n",
              "    <div class=\"colab-df-container\">\n",
              "      <div>\n",
              "<style scoped>\n",
              "    .dataframe tbody tr th:only-of-type {\n",
              "        vertical-align: middle;\n",
              "    }\n",
              "\n",
              "    .dataframe tbody tr th {\n",
              "        vertical-align: top;\n",
              "    }\n",
              "\n",
              "    .dataframe thead th {\n",
              "        text-align: right;\n",
              "    }\n",
              "</style>\n",
              "<table border=\"1\" class=\"dataframe\">\n",
              "  <thead>\n",
              "    <tr style=\"text-align: right;\">\n",
              "      <th></th>\n",
              "      <th>ym:s:bounce</th>\n",
              "      <th>ym:s:deviceCategory</th>\n",
              "      <th>ym:s:hasGCLID</th>\n",
              "      <th>ym:s:isNewUser</th>\n",
              "      <th>ym:s:javascriptEnabled</th>\n",
              "      <th>ym:s:lastAdvEngine</th>\n",
              "      <th>ym:s:lastDirectBannerGroup</th>\n",
              "      <th>ym:s:lastDirectClickBanner</th>\n",
              "      <th>ym:s:lastDirectClickBannerName</th>\n",
              "      <th>ym:s:lastTrafficSource</th>\n",
              "      <th>ym:s:offlineCallTag</th>\n",
              "      <th>ym:s:offlineCallTalkDuration</th>\n",
              "      <th>ym:s:pageViews</th>\n",
              "      <th>ym:s:screenOrientation</th>\n",
              "      <th>ym:s:visitDuration</th>\n",
              "      <th>ym:s:diagonal</th>\n",
              "      <th>ym:s:deltaTime</th>\n",
              "      <th>Y</th>\n",
              "    </tr>\n",
              "  </thead>\n",
              "  <tbody>\n",
              "    <tr>\n",
              "      <th>3</th>\n",
              "      <td>0</td>\n",
              "      <td>1</td>\n",
              "      <td>0</td>\n",
              "      <td>1</td>\n",
              "      <td>1</td>\n",
              "      <td>7</td>\n",
              "      <td>1</td>\n",
              "      <td>1</td>\n",
              "      <td>0.00</td>\n",
              "      <td>0</td>\n",
              "      <td>0</td>\n",
              "      <td>0.0</td>\n",
              "      <td>1</td>\n",
              "      <td>1</td>\n",
              "      <td>0.00</td>\n",
              "      <td>0.14</td>\n",
              "      <td>0.0</td>\n",
              "      <td>0</td>\n",
              "    </tr>\n",
              "    <tr>\n",
              "      <th>7</th>\n",
              "      <td>0</td>\n",
              "      <td>0</td>\n",
              "      <td>0</td>\n",
              "      <td>1</td>\n",
              "      <td>1</td>\n",
              "      <td>8</td>\n",
              "      <td>0</td>\n",
              "      <td>1</td>\n",
              "      <td>0.00</td>\n",
              "      <td>1</td>\n",
              "      <td>0</td>\n",
              "      <td>0.0</td>\n",
              "      <td>6</td>\n",
              "      <td>2</td>\n",
              "      <td>0.07</td>\n",
              "      <td>0.34</td>\n",
              "      <td>0.0</td>\n",
              "      <td>0</td>\n",
              "    </tr>\n",
              "    <tr>\n",
              "      <th>15</th>\n",
              "      <td>0</td>\n",
              "      <td>1</td>\n",
              "      <td>0</td>\n",
              "      <td>0</td>\n",
              "      <td>1</td>\n",
              "      <td>8</td>\n",
              "      <td>0</td>\n",
              "      <td>1</td>\n",
              "      <td>0.01</td>\n",
              "      <td>2</td>\n",
              "      <td>0</td>\n",
              "      <td>0.0</td>\n",
              "      <td>1</td>\n",
              "      <td>1</td>\n",
              "      <td>0.00</td>\n",
              "      <td>0.16</td>\n",
              "      <td>0.0</td>\n",
              "      <td>0</td>\n",
              "    </tr>\n",
              "    <tr>\n",
              "      <th>17</th>\n",
              "      <td>0</td>\n",
              "      <td>0</td>\n",
              "      <td>0</td>\n",
              "      <td>1</td>\n",
              "      <td>1</td>\n",
              "      <td>2</td>\n",
              "      <td>0</td>\n",
              "      <td>1</td>\n",
              "      <td>0.01</td>\n",
              "      <td>0</td>\n",
              "      <td>0</td>\n",
              "      <td>0.0</td>\n",
              "      <td>1</td>\n",
              "      <td>2</td>\n",
              "      <td>0.00</td>\n",
              "      <td>0.45</td>\n",
              "      <td>0.0</td>\n",
              "      <td>0</td>\n",
              "    </tr>\n",
              "    <tr>\n",
              "      <th>19</th>\n",
              "      <td>0</td>\n",
              "      <td>1</td>\n",
              "      <td>0</td>\n",
              "      <td>1</td>\n",
              "      <td>1</td>\n",
              "      <td>5</td>\n",
              "      <td>0</td>\n",
              "      <td>1</td>\n",
              "      <td>0.01</td>\n",
              "      <td>0</td>\n",
              "      <td>0</td>\n",
              "      <td>0.0</td>\n",
              "      <td>2</td>\n",
              "      <td>1</td>\n",
              "      <td>0.00</td>\n",
              "      <td>0.14</td>\n",
              "      <td>0.0</td>\n",
              "      <td>0</td>\n",
              "    </tr>\n",
              "    <tr>\n",
              "      <th>...</th>\n",
              "      <td>...</td>\n",
              "      <td>...</td>\n",
              "      <td>...</td>\n",
              "      <td>...</td>\n",
              "      <td>...</td>\n",
              "      <td>...</td>\n",
              "      <td>...</td>\n",
              "      <td>...</td>\n",
              "      <td>...</td>\n",
              "      <td>...</td>\n",
              "      <td>...</td>\n",
              "      <td>...</td>\n",
              "      <td>...</td>\n",
              "      <td>...</td>\n",
              "      <td>...</td>\n",
              "      <td>...</td>\n",
              "      <td>...</td>\n",
              "      <td>...</td>\n",
              "    </tr>\n",
              "    <tr>\n",
              "      <th>361894</th>\n",
              "      <td>0</td>\n",
              "      <td>1</td>\n",
              "      <td>0</td>\n",
              "      <td>0</td>\n",
              "      <td>1</td>\n",
              "      <td>8</td>\n",
              "      <td>0</td>\n",
              "      <td>0</td>\n",
              "      <td>0.00</td>\n",
              "      <td>0</td>\n",
              "      <td>0</td>\n",
              "      <td>0.0</td>\n",
              "      <td>1</td>\n",
              "      <td>1</td>\n",
              "      <td>0.04</td>\n",
              "      <td>0.13</td>\n",
              "      <td>0.0</td>\n",
              "      <td>0</td>\n",
              "    </tr>\n",
              "    <tr>\n",
              "      <th>361895</th>\n",
              "      <td>0</td>\n",
              "      <td>1</td>\n",
              "      <td>0</td>\n",
              "      <td>1</td>\n",
              "      <td>1</td>\n",
              "      <td>2</td>\n",
              "      <td>0</td>\n",
              "      <td>0</td>\n",
              "      <td>0.00</td>\n",
              "      <td>0</td>\n",
              "      <td>0</td>\n",
              "      <td>0.0</td>\n",
              "      <td>2</td>\n",
              "      <td>1</td>\n",
              "      <td>0.03</td>\n",
              "      <td>0.14</td>\n",
              "      <td>0.0</td>\n",
              "      <td>0</td>\n",
              "    </tr>\n",
              "    <tr>\n",
              "      <th>361908</th>\n",
              "      <td>0</td>\n",
              "      <td>1</td>\n",
              "      <td>0</td>\n",
              "      <td>1</td>\n",
              "      <td>1</td>\n",
              "      <td>7</td>\n",
              "      <td>1</td>\n",
              "      <td>1</td>\n",
              "      <td>0.02</td>\n",
              "      <td>0</td>\n",
              "      <td>0</td>\n",
              "      <td>0.0</td>\n",
              "      <td>0</td>\n",
              "      <td>1</td>\n",
              "      <td>0.01</td>\n",
              "      <td>0.11</td>\n",
              "      <td>0.0</td>\n",
              "      <td>0</td>\n",
              "    </tr>\n",
              "    <tr>\n",
              "      <th>361912</th>\n",
              "      <td>0</td>\n",
              "      <td>0</td>\n",
              "      <td>1</td>\n",
              "      <td>1</td>\n",
              "      <td>1</td>\n",
              "      <td>9</td>\n",
              "      <td>0</td>\n",
              "      <td>0</td>\n",
              "      <td>0.00</td>\n",
              "      <td>0</td>\n",
              "      <td>0</td>\n",
              "      <td>0.0</td>\n",
              "      <td>1</td>\n",
              "      <td>2</td>\n",
              "      <td>0.01</td>\n",
              "      <td>0.24</td>\n",
              "      <td>0.0</td>\n",
              "      <td>0</td>\n",
              "    </tr>\n",
              "    <tr>\n",
              "      <th>361914</th>\n",
              "      <td>0</td>\n",
              "      <td>1</td>\n",
              "      <td>0</td>\n",
              "      <td>0</td>\n",
              "      <td>1</td>\n",
              "      <td>8</td>\n",
              "      <td>0</td>\n",
              "      <td>0</td>\n",
              "      <td>0.00</td>\n",
              "      <td>2</td>\n",
              "      <td>0</td>\n",
              "      <td>0.0</td>\n",
              "      <td>2</td>\n",
              "      <td>1</td>\n",
              "      <td>0.01</td>\n",
              "      <td>0.15</td>\n",
              "      <td>0.0</td>\n",
              "      <td>0</td>\n",
              "    </tr>\n",
              "  </tbody>\n",
              "</table>\n",
              "<p>122948 rows × 18 columns</p>\n",
              "</div>\n",
              "      <button class=\"colab-df-convert\" onclick=\"convertToInteractive('df-a7c03444-09ff-4882-8072-7391bc9a57e3')\"\n",
              "              title=\"Convert this dataframe to an interactive table.\"\n",
              "              style=\"display:none;\">\n",
              "        \n",
              "  <svg xmlns=\"http://www.w3.org/2000/svg\" height=\"24px\"viewBox=\"0 0 24 24\"\n",
              "       width=\"24px\">\n",
              "    <path d=\"M0 0h24v24H0V0z\" fill=\"none\"/>\n",
              "    <path d=\"M18.56 5.44l.94 2.06.94-2.06 2.06-.94-2.06-.94-.94-2.06-.94 2.06-2.06.94zm-11 1L8.5 8.5l.94-2.06 2.06-.94-2.06-.94L8.5 2.5l-.94 2.06-2.06.94zm10 10l.94 2.06.94-2.06 2.06-.94-2.06-.94-.94-2.06-.94 2.06-2.06.94z\"/><path d=\"M17.41 7.96l-1.37-1.37c-.4-.4-.92-.59-1.43-.59-.52 0-1.04.2-1.43.59L10.3 9.45l-7.72 7.72c-.78.78-.78 2.05 0 2.83L4 21.41c.39.39.9.59 1.41.59.51 0 1.02-.2 1.41-.59l7.78-7.78 2.81-2.81c.8-.78.8-2.07 0-2.86zM5.41 20L4 18.59l7.72-7.72 1.47 1.35L5.41 20z\"/>\n",
              "  </svg>\n",
              "      </button>\n",
              "      \n",
              "  <style>\n",
              "    .colab-df-container {\n",
              "      display:flex;\n",
              "      flex-wrap:wrap;\n",
              "      gap: 12px;\n",
              "    }\n",
              "\n",
              "    .colab-df-convert {\n",
              "      background-color: #E8F0FE;\n",
              "      border: none;\n",
              "      border-radius: 50%;\n",
              "      cursor: pointer;\n",
              "      display: none;\n",
              "      fill: #1967D2;\n",
              "      height: 32px;\n",
              "      padding: 0 0 0 0;\n",
              "      width: 32px;\n",
              "    }\n",
              "\n",
              "    .colab-df-convert:hover {\n",
              "      background-color: #E2EBFA;\n",
              "      box-shadow: 0px 1px 2px rgba(60, 64, 67, 0.3), 0px 1px 3px 1px rgba(60, 64, 67, 0.15);\n",
              "      fill: #174EA6;\n",
              "    }\n",
              "\n",
              "    [theme=dark] .colab-df-convert {\n",
              "      background-color: #3B4455;\n",
              "      fill: #D2E3FC;\n",
              "    }\n",
              "\n",
              "    [theme=dark] .colab-df-convert:hover {\n",
              "      background-color: #434B5C;\n",
              "      box-shadow: 0px 1px 3px 1px rgba(0, 0, 0, 0.15);\n",
              "      filter: drop-shadow(0px 1px 2px rgba(0, 0, 0, 0.3));\n",
              "      fill: #FFFFFF;\n",
              "    }\n",
              "  </style>\n",
              "\n",
              "      <script>\n",
              "        const buttonEl =\n",
              "          document.querySelector('#df-a7c03444-09ff-4882-8072-7391bc9a57e3 button.colab-df-convert');\n",
              "        buttonEl.style.display =\n",
              "          google.colab.kernel.accessAllowed ? 'block' : 'none';\n",
              "\n",
              "        async function convertToInteractive(key) {\n",
              "          const element = document.querySelector('#df-a7c03444-09ff-4882-8072-7391bc9a57e3');\n",
              "          const dataTable =\n",
              "            await google.colab.kernel.invokeFunction('convertToInteractive',\n",
              "                                                     [key], {});\n",
              "          if (!dataTable) return;\n",
              "\n",
              "          const docLinkHtml = 'Like what you see? Visit the ' +\n",
              "            '<a target=\"_blank\" href=https://colab.research.google.com/notebooks/data_table.ipynb>data table notebook</a>'\n",
              "            + ' to learn more about interactive tables.';\n",
              "          element.innerHTML = '';\n",
              "          dataTable['output_type'] = 'display_data';\n",
              "          await google.colab.output.renderOutput(dataTable, element);\n",
              "          const docLink = document.createElement('div');\n",
              "          docLink.innerHTML = docLinkHtml;\n",
              "          element.appendChild(docLink);\n",
              "        }\n",
              "      </script>\n",
              "    </div>\n",
              "  </div>\n",
              "  "
            ]
          },
          "metadata": {},
          "execution_count": 23
        }
      ]
    },
    {
      "cell_type": "code",
      "source": [
        "df1['Y'].value_counts()"
      ],
      "metadata": {
        "colab": {
          "base_uri": "https://localhost:8080/"
        },
        "id": "aOiqOhMfRrLP",
        "outputId": "d9eca35d-681a-4633-a09d-bf4f83121554"
      },
      "execution_count": 24,
      "outputs": [
        {
          "output_type": "execute_result",
          "data": {
            "text/plain": [
              "0    121641\n",
              "1      1307\n",
              "Name: Y, dtype: int64"
            ]
          },
          "metadata": {},
          "execution_count": 24
        }
      ]
    },
    {
      "cell_type": "markdown",
      "source": [
        "Model sequential"
      ],
      "metadata": {
        "id": "u-DPmIovB3r0"
      }
    },
    {
      "cell_type": "code",
      "source": [
        "df1 = shuffle(df1,random_state=42)\n",
        "\n",
        "df1_1 = df1[df1['Y']==1]\n",
        "# print(len(df1_0),len(df1_1))\n",
        "df1_0 = df1[df1['Y']==0][:1307] # проверяем на модели \n",
        "len(df1_0)\n",
        "df1_all = pd.concat([df1_0,df1_1], axis=0)\n",
        "cols = list(df1.columns)\n",
        "\n",
        "X = df1_all[cols[:-1]]\n",
        "y = df1_all['Y']"
      ],
      "metadata": {
        "id": "Ycp_GUEx40Ji"
      },
      "execution_count": 25,
      "outputs": []
    },
    {
      "cell_type": "code",
      "source": [
        "X_train, X_test, y_train, y_test = train_test_split(X, y, test_size=0.1, random_state=42)\n",
        "\n",
        "print('Размер x_train:',X_train.shape)                             \n",
        "print('Размер y_train:',y_train.shape)\n",
        "print('Размер x_test:',X_test.shape)\n",
        "print('Размер y_test:',y_test.shape)\n",
        "\n",
        "CLASS_COUNT=2\n",
        "\n",
        "y_train = utils.to_categorical(y_train, CLASS_COUNT)\n",
        "y_test = utils.to_categorical(y_test, CLASS_COUNT)"
      ],
      "metadata": {
        "colab": {
          "base_uri": "https://localhost:8080/"
        },
        "id": "FlF8iar2R1J-",
        "outputId": "bb8e14b5-3381-4278-b7fb-8311b646ef2f"
      },
      "execution_count": 26,
      "outputs": [
        {
          "output_type": "stream",
          "name": "stdout",
          "text": [
            "Размер x_train: (2352, 17)\n",
            "Размер y_train: (2352,)\n",
            "Размер x_test: (262, 17)\n",
            "Размер y_test: (262,)\n"
          ]
        }
      ]
    },
    {
      "cell_type": "code",
      "source": [
        "data_list_dense = []\n",
        "layers=[1700]\n",
        "activations=['relu']\n",
        "adam_rate=[0.005]\n",
        "batch_sizes=[32] # кол-во примеров, которое обрабатывает нейронка перед одним изменением весов\n",
        "\n",
        "for layer in layers:\n",
        "  for activation in activations:\n",
        "    for batch in batch_sizes:\n",
        "      for lr in adam_rate:\n",
        "      \n",
        "        model = Sequential()\n",
        "        \n",
        "        modelcheckpoint_1 = ModelCheckpoint(filepath=f'modeldense.mcp.{layer}.{activation}.{batch}', monitor=\"val_accuracy\", mode=\"max\", verbose=1, save_best_only=True) # --- how to use????\n",
        "\n",
        "        model.add(Dense(layer, input_dim=X_train.shape[1], use_bias = True, activation=activation)) \n",
        "        model.add(Dense(CLASS_COUNT, activation='softmax')) \n",
        "        model.compile(loss='binary_crossentropy', optimizer=Adam(learning_rate=lr), metrics=[\"accuracy\"])\n",
        "        \n",
        "        # print(f'Neuron layer: {layer}, activation: {activation}, batch_size: {batch}')\n",
        "        history = model.fit(X_train, y_train, epochs=42, validation_data=(X_test, y_test), shuffle = True, callbacks=[modelcheckpoint_1], batch_size=batch, verbose=1) \n",
        "        # model.load_weights(f'model.mcp.{layer}.{activation}.{batch}')\n",
        "\n",
        "\n",
        "        data_list_dense.append(('Neurons:', layer, 'Activation:', activation, 'Batch: ', batch, 'Learning rate: ', lr, \n",
        "                          'Max_accuracy:', round(max(history.history['accuracy']), 2),\n",
        "                          'Val_accuracy of best train accuracy:', round(history.history['val_accuracy'][np.argmax(history.history['accuracy'])], 2),\n",
        "                          'Validation accuracy:', round(history.history['val_accuracy'][9], 2)))     \n",
        "        \n",
        "       \n",
        "        print('\\n\\n')\n",
        "        print('_________________________________________________________________')\n",
        "        print(model.summary())\n",
        "        # Построим графики точности на обучающей и проверочной выборках на протяжении всего обучения:\n",
        "        import matplotlib.pyplot as plt    \n",
        "        plt.plot(history.history['accuracy'], \n",
        "                label='Доля верных ответов на обучающем наборе')\n",
        "        plt.plot(history.history['val_accuracy'], \n",
        "                label='Доля верных ответов на проверочном наборе')\n",
        "        plt.xlabel('Эпоха обучения')\n",
        "        plt.ylabel('Доля верных ответов')\n",
        "        plt.legend()\n",
        "        plt.show()\n",
        "\n",
        "        # графики ошибки:\n",
        "        plt.plot(history.history['loss'], \n",
        "                label='Ошибка на обучающем наборе')\n",
        "        plt.plot(history.history['val_loss'], \n",
        "                label='Ошибка на проверочном наборе')\n",
        "        plt.xlabel('Эпоха обучения')\n",
        "        plt.ylabel('Ошибка')\n",
        "        plt.legend()\n",
        "        plt.show()"
      ],
      "metadata": {
        "colab": {
          "base_uri": "https://localhost:8080/",
          "height": 1000
        },
        "id": "nwXw9DppR1NF",
        "outputId": "7c7aaf5d-5b23-4153-d1d3-dfea11da9f11"
      },
      "execution_count": 27,
      "outputs": [
        {
          "output_type": "stream",
          "name": "stdout",
          "text": [
            "Epoch 1/42\n",
            "61/74 [=======================>......] - ETA: 0s - loss: 0.5610 - accuracy: 0.7141\n",
            "Epoch 1: val_accuracy improved from -inf to 0.84351, saving model to modeldense.mcp.1700.relu.32\n"
          ]
        },
        {
          "output_type": "stream",
          "name": "stderr",
          "text": [
            "WARNING:absl:Found untraced functions such as _update_step_xla while saving (showing 1 of 1). These functions will not be directly callable after loading.\n"
          ]
        },
        {
          "output_type": "stream",
          "name": "stdout",
          "text": [
            "\b\b\b\b\b\b\b\b\b\b\b\b\b\b\b\b\b\b\b\b\b\b\b\b\b\b\b\b\b\b\b\b\b\b\b\b\b\b\b\b\b\b\b\b\b\b\b\b\b\b\b\b\b\b\b\b\b\b\b\b\b\b\b\b\b\b\b\b\b\b\b\b\b\b\b\b\b\b\b\b\b\b\r74/74 [==============================] - 1s 9ms/step - loss: 0.5428 - accuracy: 0.7279 - val_loss: 0.3928 - val_accuracy: 0.8435\n",
            "Epoch 2/42\n",
            "67/74 [==========================>...] - ETA: 0s - loss: 0.3781 - accuracy: 0.8321\n",
            "Epoch 2: val_accuracy improved from 0.84351 to 0.87786, saving model to modeldense.mcp.1700.relu.32\n"
          ]
        },
        {
          "output_type": "stream",
          "name": "stderr",
          "text": [
            "WARNING:absl:Found untraced functions such as _update_step_xla while saving (showing 1 of 1). These functions will not be directly callable after loading.\n"
          ]
        },
        {
          "output_type": "stream",
          "name": "stdout",
          "text": [
            "\b\b\b\b\b\b\b\b\b\b\b\b\b\b\b\b\b\b\b\b\b\b\b\b\b\b\b\b\b\b\b\b\b\b\b\b\b\b\b\b\b\b\b\b\b\b\b\b\b\b\b\b\b\b\b\b\b\b\b\b\b\b\b\b\b\b\b\b\b\b\b\b\b\b\b\b\b\b\b\b\b\b\r74/74 [==============================] - 0s 7ms/step - loss: 0.3769 - accuracy: 0.8304 - val_loss: 0.3124 - val_accuracy: 0.8779\n",
            "Epoch 3/42\n",
            "71/74 [===========================>..] - ETA: 0s - loss: 0.3118 - accuracy: 0.8631\n",
            "Epoch 3: val_accuracy improved from 0.87786 to 0.88550, saving model to modeldense.mcp.1700.relu.32\n"
          ]
        },
        {
          "output_type": "stream",
          "name": "stderr",
          "text": [
            "WARNING:absl:Found untraced functions such as _update_step_xla while saving (showing 1 of 1). These functions will not be directly callable after loading.\n"
          ]
        },
        {
          "output_type": "stream",
          "name": "stdout",
          "text": [
            "\b\b\b\b\b\b\b\b\b\b\b\b\b\b\b\b\b\b\b\b\b\b\b\b\b\b\b\b\b\b\b\b\b\b\b\b\b\b\b\b\b\b\b\b\b\b\b\b\b\b\b\b\b\b\b\b\b\b\b\b\b\b\b\b\b\b\b\b\b\b\b\b\b\b\b\b\b\b\b\b\b\b\r74/74 [==============================] - 1s 7ms/step - loss: 0.3140 - accuracy: 0.8622 - val_loss: 0.2848 - val_accuracy: 0.8855\n",
            "Epoch 4/42\n",
            "65/74 [=========================>....] - ETA: 0s - loss: 0.2576 - accuracy: 0.8962\n",
            "Epoch 4: val_accuracy improved from 0.88550 to 0.89695, saving model to modeldense.mcp.1700.relu.32\n"
          ]
        },
        {
          "output_type": "stream",
          "name": "stderr",
          "text": [
            "WARNING:absl:Found untraced functions such as _update_step_xla while saving (showing 1 of 1). These functions will not be directly callable after loading.\n"
          ]
        },
        {
          "output_type": "stream",
          "name": "stdout",
          "text": [
            "\b\b\b\b\b\b\b\b\b\b\b\b\b\b\b\b\b\b\b\b\b\b\b\b\b\b\b\b\b\b\b\b\b\b\b\b\b\b\b\b\b\b\b\b\b\b\b\b\b\b\b\b\b\b\b\b\b\b\b\b\b\b\b\b\b\b\b\b\b\b\b\b\b\b\b\b\b\b\b\b\b\b\r74/74 [==============================] - 1s 7ms/step - loss: 0.2546 - accuracy: 0.8967 - val_loss: 0.2646 - val_accuracy: 0.8969\n",
            "Epoch 5/42\n",
            "65/74 [=========================>....] - ETA: 0s - loss: 0.2090 - accuracy: 0.9139\n",
            "Epoch 5: val_accuracy improved from 0.89695 to 0.95420, saving model to modeldense.mcp.1700.relu.32\n"
          ]
        },
        {
          "output_type": "stream",
          "name": "stderr",
          "text": [
            "WARNING:absl:Found untraced functions such as _update_step_xla while saving (showing 1 of 1). These functions will not be directly callable after loading.\n"
          ]
        },
        {
          "output_type": "stream",
          "name": "stdout",
          "text": [
            "\b\b\b\b\b\b\b\b\b\b\b\b\b\b\b\b\b\b\b\b\b\b\b\b\b\b\b\b\b\b\b\b\b\b\b\b\b\b\b\b\b\b\b\b\b\b\b\b\b\b\b\b\b\b\b\b\b\b\b\b\b\b\b\b\b\b\b\b\b\b\b\b\b\b\b\b\b\b\b\b\b\b\r74/74 [==============================] - 1s 7ms/step - loss: 0.2043 - accuracy: 0.9167 - val_loss: 0.1532 - val_accuracy: 0.9542\n",
            "Epoch 6/42\n",
            "66/74 [=========================>....] - ETA: 0s - loss: 0.1958 - accuracy: 0.9290\n",
            "Epoch 6: val_accuracy did not improve from 0.95420\n",
            "74/74 [==============================] - 0s 2ms/step - loss: 0.1989 - accuracy: 0.9294 - val_loss: 0.2244 - val_accuracy: 0.9198\n",
            "Epoch 7/42\n",
            "62/74 [========================>.....] - ETA: 0s - loss: 0.1494 - accuracy: 0.9496\n",
            "Epoch 7: val_accuracy improved from 0.95420 to 0.97328, saving model to modeldense.mcp.1700.relu.32\n"
          ]
        },
        {
          "output_type": "stream",
          "name": "stderr",
          "text": [
            "WARNING:absl:Found untraced functions such as _update_step_xla while saving (showing 1 of 1). These functions will not be directly callable after loading.\n"
          ]
        },
        {
          "output_type": "stream",
          "name": "stdout",
          "text": [
            "\b\b\b\b\b\b\b\b\b\b\b\b\b\b\b\b\b\b\b\b\b\b\b\b\b\b\b\b\b\b\b\b\b\b\b\b\b\b\b\b\b\b\b\b\b\b\b\b\b\b\b\b\b\b\b\b\b\b\b\b\b\b\b\b\b\b\b\b\b\b\b\b\b\b\b\b\b\b\b\b\b\b\r74/74 [==============================] - 1s 7ms/step - loss: 0.1424 - accuracy: 0.9515 - val_loss: 0.0982 - val_accuracy: 0.9733\n",
            "Epoch 8/42\n",
            "66/74 [=========================>....] - ETA: 0s - loss: 0.1168 - accuracy: 0.9598\n",
            "Epoch 8: val_accuracy did not improve from 0.97328\n",
            "74/74 [==============================] - 0s 2ms/step - loss: 0.1160 - accuracy: 0.9600 - val_loss: 0.1111 - val_accuracy: 0.9504\n",
            "Epoch 9/42\n",
            "46/74 [=================>............] - ETA: 0s - loss: 0.0957 - accuracy: 0.9681\n",
            "Epoch 9: val_accuracy did not improve from 0.97328\n",
            "74/74 [==============================] - 0s 2ms/step - loss: 0.1020 - accuracy: 0.9673 - val_loss: 0.0877 - val_accuracy: 0.9618\n",
            "Epoch 10/42\n",
            "54/74 [====================>.........] - ETA: 0s - loss: 0.0892 - accuracy: 0.9716\n",
            "Epoch 10: val_accuracy did not improve from 0.97328\n",
            "74/74 [==============================] - 0s 2ms/step - loss: 0.0930 - accuracy: 0.9694 - val_loss: 0.2634 - val_accuracy: 0.9160\n",
            "Epoch 11/42\n",
            "55/74 [=====================>........] - ETA: 0s - loss: 0.1083 - accuracy: 0.9631\n",
            "Epoch 11: val_accuracy did not improve from 0.97328\n",
            "74/74 [==============================] - 0s 2ms/step - loss: 0.1077 - accuracy: 0.9643 - val_loss: 0.0900 - val_accuracy: 0.9504\n",
            "Epoch 12/42\n",
            "63/74 [========================>.....] - ETA: 0s - loss: 0.1045 - accuracy: 0.9683\n",
            "Epoch 12: val_accuracy improved from 0.97328 to 0.98092, saving model to modeldense.mcp.1700.relu.32\n"
          ]
        },
        {
          "output_type": "stream",
          "name": "stderr",
          "text": [
            "WARNING:absl:Found untraced functions such as _update_step_xla while saving (showing 1 of 1). These functions will not be directly callable after loading.\n"
          ]
        },
        {
          "output_type": "stream",
          "name": "stdout",
          "text": [
            "\b\b\b\b\b\b\b\b\b\b\b\b\b\b\b\b\b\b\b\b\b\b\b\b\b\b\b\b\b\b\b\b\b\b\b\b\b\b\b\b\b\b\b\b\b\b\b\b\b\b\b\b\b\b\b\b\b\b\b\b\b\b\b\b\b\b\b\b\b\b\b\b\b\b\b\b\b\b\b\b\b\b\r74/74 [==============================] - 0s 7ms/step - loss: 0.0969 - accuracy: 0.9707 - val_loss: 0.0525 - val_accuracy: 0.9809\n",
            "Epoch 13/42\n",
            "53/74 [====================>.........] - ETA: 0s - loss: 0.0597 - accuracy: 0.9841\n",
            "Epoch 13: val_accuracy did not improve from 0.98092\n",
            "74/74 [==============================] - 0s 2ms/step - loss: 0.0535 - accuracy: 0.9860 - val_loss: 0.0464 - val_accuracy: 0.9809\n",
            "Epoch 14/42\n",
            "68/74 [==========================>...] - ETA: 0s - loss: 0.0657 - accuracy: 0.9798\n",
            "Epoch 14: val_accuracy improved from 0.98092 to 0.98473, saving model to modeldense.mcp.1700.relu.32\n"
          ]
        },
        {
          "output_type": "stream",
          "name": "stderr",
          "text": [
            "WARNING:absl:Found untraced functions such as _update_step_xla while saving (showing 1 of 1). These functions will not be directly callable after loading.\n"
          ]
        },
        {
          "output_type": "stream",
          "name": "stdout",
          "text": [
            "\b\b\b\b\b\b\b\b\b\b\b\b\b\b\b\b\b\b\b\b\b\b\b\b\b\b\b\b\b\b\b\b\b\b\b\b\b\b\b\b\b\b\b\b\b\b\b\b\b\b\b\b\b\b\b\b\b\b\b\b\b\b\b\b\b\b\b\b\b\b\b\b\b\b\b\b\b\b\b\b\b\b\r74/74 [==============================] - 0s 6ms/step - loss: 0.0723 - accuracy: 0.9775 - val_loss: 0.1148 - val_accuracy: 0.9847\n",
            "Epoch 15/42\n",
            "62/74 [========================>.....] - ETA: 0s - loss: 0.0831 - accuracy: 0.9677\n",
            "Epoch 15: val_accuracy did not improve from 0.98473\n",
            "74/74 [==============================] - 0s 2ms/step - loss: 0.0789 - accuracy: 0.9694 - val_loss: 0.0524 - val_accuracy: 0.9809\n",
            "Epoch 16/42\n",
            "67/74 [==========================>...] - ETA: 0s - loss: 0.0918 - accuracy: 0.9748\n",
            "Epoch 16: val_accuracy did not improve from 0.98473\n",
            "74/74 [==============================] - 0s 2ms/step - loss: 0.1060 - accuracy: 0.9694 - val_loss: 0.0862 - val_accuracy: 0.9695\n",
            "Epoch 17/42\n",
            "60/74 [=======================>......] - ETA: 0s - loss: 0.0948 - accuracy: 0.9651\n",
            "Epoch 17: val_accuracy did not improve from 0.98473\n",
            "74/74 [==============================] - 0s 2ms/step - loss: 0.0920 - accuracy: 0.9668 - val_loss: 0.1516 - val_accuracy: 0.9580\n",
            "Epoch 18/42\n",
            "64/74 [========================>.....] - ETA: 0s - loss: 0.1259 - accuracy: 0.9668\n",
            "Epoch 18: val_accuracy did not improve from 0.98473\n",
            "74/74 [==============================] - 0s 2ms/step - loss: 0.1131 - accuracy: 0.9698 - val_loss: 0.0509 - val_accuracy: 0.9733\n",
            "Epoch 19/42\n",
            "68/74 [==========================>...] - ETA: 0s - loss: 0.0505 - accuracy: 0.9839\n",
            "Epoch 19: val_accuracy did not improve from 0.98473\n",
            "74/74 [==============================] - 0s 2ms/step - loss: 0.0486 - accuracy: 0.9851 - val_loss: 0.0310 - val_accuracy: 0.9771\n",
            "Epoch 20/42\n",
            "63/74 [========================>.....] - ETA: 0s - loss: 0.0307 - accuracy: 0.9931\n",
            "Epoch 20: val_accuracy did not improve from 0.98473\n",
            "74/74 [==============================] - 0s 2ms/step - loss: 0.0323 - accuracy: 0.9928 - val_loss: 0.0673 - val_accuracy: 0.9733\n",
            "Epoch 21/42\n",
            "68/74 [==========================>...] - ETA: 0s - loss: 0.0323 - accuracy: 0.9931\n",
            "Epoch 21: val_accuracy did not improve from 0.98473\n",
            "74/74 [==============================] - 0s 2ms/step - loss: 0.0348 - accuracy: 0.9928 - val_loss: 0.0530 - val_accuracy: 0.9733\n",
            "Epoch 22/42\n",
            "56/74 [=====================>........] - ETA: 0s - loss: 0.0956 - accuracy: 0.9676\n",
            "Epoch 22: val_accuracy did not improve from 0.98473\n",
            "74/74 [==============================] - 0s 2ms/step - loss: 0.0832 - accuracy: 0.9732 - val_loss: 0.0445 - val_accuracy: 0.9847\n",
            "Epoch 23/42\n",
            "66/74 [=========================>....] - ETA: 0s - loss: 0.0332 - accuracy: 0.9924\n",
            "Epoch 23: val_accuracy improved from 0.98473 to 0.99618, saving model to modeldense.mcp.1700.relu.32\n"
          ]
        },
        {
          "output_type": "stream",
          "name": "stderr",
          "text": [
            "WARNING:absl:Found untraced functions such as _update_step_xla while saving (showing 1 of 1). These functions will not be directly callable after loading.\n"
          ]
        },
        {
          "output_type": "stream",
          "name": "stdout",
          "text": [
            "\b\b\b\b\b\b\b\b\b\b\b\b\b\b\b\b\b\b\b\b\b\b\b\b\b\b\b\b\b\b\b\b\b\b\b\b\b\b\b\b\b\b\b\b\b\b\b\b\b\b\b\b\b\b\b\b\b\b\b\b\b\b\b\b\b\b\b\b\b\b\b\b\b\b\b\b\b\b\b\b\b\b\r74/74 [==============================] - 1s 7ms/step - loss: 0.0341 - accuracy: 0.9919 - val_loss: 0.0243 - val_accuracy: 0.9962\n",
            "Epoch 24/42\n",
            "67/74 [==========================>...] - ETA: 0s - loss: 0.0308 - accuracy: 0.9911\n",
            "Epoch 24: val_accuracy did not improve from 0.99618\n",
            "74/74 [==============================] - 0s 2ms/step - loss: 0.0323 - accuracy: 0.9911 - val_loss: 0.0317 - val_accuracy: 0.9962\n",
            "Epoch 25/42\n",
            "70/74 [===========================>..] - ETA: 0s - loss: 0.0924 - accuracy: 0.9719\n",
            "Epoch 25: val_accuracy did not improve from 0.99618\n",
            "74/74 [==============================] - 0s 2ms/step - loss: 0.0910 - accuracy: 0.9732 - val_loss: 0.0368 - val_accuracy: 0.9771\n",
            "Epoch 26/42\n",
            "63/74 [========================>.....] - ETA: 0s - loss: 0.0326 - accuracy: 0.9916\n",
            "Epoch 26: val_accuracy did not improve from 0.99618\n",
            "74/74 [==============================] - 0s 2ms/step - loss: 0.0310 - accuracy: 0.9923 - val_loss: 0.0312 - val_accuracy: 0.9847\n",
            "Epoch 27/42\n",
            "69/74 [==========================>...] - ETA: 0s - loss: 0.0262 - accuracy: 0.9941\n",
            "Epoch 27: val_accuracy did not improve from 0.99618\n",
            "74/74 [==============================] - 0s 2ms/step - loss: 0.0259 - accuracy: 0.9940 - val_loss: 0.0214 - val_accuracy: 0.9962\n",
            "Epoch 28/42\n",
            "61/74 [=======================>......] - ETA: 0s - loss: 0.0332 - accuracy: 0.9923\n",
            "Epoch 28: val_accuracy did not improve from 0.99618\n",
            "74/74 [==============================] - 0s 2ms/step - loss: 0.0316 - accuracy: 0.9923 - val_loss: 0.0168 - val_accuracy: 0.9962\n",
            "Epoch 29/42\n",
            "55/74 [=====================>........] - ETA: 0s - loss: 0.0547 - accuracy: 0.9824\n",
            "Epoch 29: val_accuracy did not improve from 0.99618\n",
            "74/74 [==============================] - 0s 2ms/step - loss: 0.0465 - accuracy: 0.9855 - val_loss: 0.0258 - val_accuracy: 0.9962\n",
            "Epoch 30/42\n",
            "67/74 [==========================>...] - ETA: 0s - loss: 0.0452 - accuracy: 0.9893\n",
            "Epoch 30: val_accuracy did not improve from 0.99618\n",
            "74/74 [==============================] - 0s 2ms/step - loss: 0.0823 - accuracy: 0.9800 - val_loss: 0.2610 - val_accuracy: 0.9351\n",
            "Epoch 31/42\n",
            "59/74 [======================>.......] - ETA: 0s - loss: 0.1484 - accuracy: 0.9619\n",
            "Epoch 31: val_accuracy did not improve from 0.99618\n",
            "74/74 [==============================] - 0s 2ms/step - loss: 0.1245 - accuracy: 0.9690 - val_loss: 0.0349 - val_accuracy: 0.9962\n",
            "Epoch 32/42\n",
            "69/74 [==========================>...] - ETA: 0s - loss: 0.0277 - accuracy: 0.9950\n",
            "Epoch 32: val_accuracy did not improve from 0.99618\n",
            "74/74 [==============================] - 0s 2ms/step - loss: 0.0272 - accuracy: 0.9953 - val_loss: 0.0201 - val_accuracy: 0.9962\n",
            "Epoch 33/42\n",
            "68/74 [==========================>...] - ETA: 0s - loss: 0.0273 - accuracy: 0.9926\n",
            "Epoch 33: val_accuracy did not improve from 0.99618\n",
            "74/74 [==============================] - 0s 2ms/step - loss: 0.0258 - accuracy: 0.9932 - val_loss: 0.0340 - val_accuracy: 0.9924\n",
            "Epoch 34/42\n",
            "66/74 [=========================>....] - ETA: 0s - loss: 0.0235 - accuracy: 0.9948\n",
            "Epoch 34: val_accuracy did not improve from 0.99618\n",
            "74/74 [==============================] - 0s 2ms/step - loss: 0.0219 - accuracy: 0.9953 - val_loss: 0.0213 - val_accuracy: 0.9924\n",
            "Epoch 35/42\n",
            "61/74 [=======================>......] - ETA: 0s - loss: 0.0297 - accuracy: 0.9918\n",
            "Epoch 35: val_accuracy did not improve from 0.99618\n",
            "74/74 [==============================] - 0s 2ms/step - loss: 0.0333 - accuracy: 0.9906 - val_loss: 0.0395 - val_accuracy: 0.9885\n",
            "Epoch 36/42\n",
            "62/74 [========================>.....] - ETA: 0s - loss: 0.0436 - accuracy: 0.9904\n",
            "Epoch 36: val_accuracy did not improve from 0.99618\n",
            "74/74 [==============================] - 0s 2ms/step - loss: 0.0408 - accuracy: 0.9911 - val_loss: 0.0602 - val_accuracy: 0.9847\n",
            "Epoch 37/42\n",
            "68/74 [==========================>...] - ETA: 0s - loss: 0.0673 - accuracy: 0.9812\n",
            "Epoch 37: val_accuracy did not improve from 0.99618\n",
            "74/74 [==============================] - 0s 2ms/step - loss: 0.0644 - accuracy: 0.9821 - val_loss: 0.1138 - val_accuracy: 0.9809\n",
            "Epoch 38/42\n",
            "62/74 [========================>.....] - ETA: 0s - loss: 0.0428 - accuracy: 0.9879\n",
            "Epoch 38: val_accuracy did not improve from 0.99618\n",
            "74/74 [==============================] - 0s 3ms/step - loss: 0.0394 - accuracy: 0.9894 - val_loss: 0.0202 - val_accuracy: 0.9924\n",
            "Epoch 39/42\n",
            "70/74 [===========================>..] - ETA: 0s - loss: 0.0248 - accuracy: 0.9937\n",
            "Epoch 39: val_accuracy did not improve from 0.99618\n",
            "74/74 [==============================] - 0s 3ms/step - loss: 0.0253 - accuracy: 0.9936 - val_loss: 0.0212 - val_accuracy: 0.9924\n",
            "Epoch 40/42\n",
            "72/74 [============================>.] - ETA: 0s - loss: 0.0485 - accuracy: 0.9826\n",
            "Epoch 40: val_accuracy did not improve from 0.99618\n",
            "74/74 [==============================] - 0s 3ms/step - loss: 0.0477 - accuracy: 0.9830 - val_loss: 0.1842 - val_accuracy: 0.9618\n",
            "Epoch 41/42\n",
            "72/74 [============================>.] - ETA: 0s - loss: 0.0436 - accuracy: 0.9878\n",
            "Epoch 41: val_accuracy did not improve from 0.99618\n",
            "74/74 [==============================] - 0s 3ms/step - loss: 0.0437 - accuracy: 0.9877 - val_loss: 0.0258 - val_accuracy: 0.9962\n",
            "Epoch 42/42\n",
            "71/74 [===========================>..] - ETA: 0s - loss: 0.0463 - accuracy: 0.9872\n",
            "Epoch 42: val_accuracy did not improve from 0.99618\n",
            "74/74 [==============================] - 0s 3ms/step - loss: 0.0457 - accuracy: 0.9872 - val_loss: 0.0333 - val_accuracy: 0.9962\n",
            "\n",
            "\n",
            "\n",
            "_________________________________________________________________\n",
            "Model: \"sequential_1\"\n",
            "_________________________________________________________________\n",
            " Layer (type)                Output Shape              Param #   \n",
            "=================================================================\n",
            " dense_2 (Dense)             (None, 1700)              30600     \n",
            "                                                                 \n",
            " dense_3 (Dense)             (None, 2)                 3402      \n",
            "                                                                 \n",
            "=================================================================\n",
            "Total params: 34,002\n",
            "Trainable params: 34,002\n",
            "Non-trainable params: 0\n",
            "_________________________________________________________________\n",
            "None\n"
          ]
        },
        {
          "output_type": "display_data",
          "data": {
            "text/plain": [
              "<Figure size 432x288 with 1 Axes>"
            ],
            "image/png": "[encoded data removed]"
          },
          "metadata": {
            "needs_background": "light"
          }
        },
        {
          "output_type": "display_data",
          "data": {
            "text/plain": [
              "<Figure size 432x288 with 1 Axes>"
            ],
            "image/png": "[encoded data removed]"
          },
          "metadata": {
            "needs_background": "light"
          }
        }
      ]
    },
    {
      "cell_type": "code",
      "source": [
        "# Вывод результатов экспериментов  с modelcheckpoint_1\n",
        "for i in data_list_dense:\n",
        "    print(i)"
      ],
      "metadata": {
        "colab": {
          "base_uri": "https://localhost:8080/"
        },
        "id": "MufXGihcR1TO",
        "outputId": "f2aeb087-6b8f-4e80-d5d9-fb3239d02f99"
      },
      "execution_count": 28,
      "outputs": [
        {
          "output_type": "stream",
          "name": "stdout",
          "text": [
            "('Neurons:', 1700, 'Activation:', 'relu', 'Batch: ', 32, 'Learning rate: ', 0.005, 'Max_accuracy:', 1.0, 'Val_accuracy of best train accuracy:', 1.0, 'Validation accuracy:', 0.92)\n"
          ]
        }
      ]
    }
  ]
}